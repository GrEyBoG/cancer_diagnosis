{
 "cells": [
  {
   "cell_type": "code",
   "execution_count": 1,
   "id": "10c8777d",
   "metadata": {
    "execution": {
     "iopub.execute_input": "2025-03-18T17:54:35.371278Z",
     "iopub.status.busy": "2025-03-18T17:54:35.370863Z",
     "iopub.status.idle": "2025-03-18T17:54:38.394653Z",
     "shell.execute_reply": "2025-03-18T17:54:38.393117Z"
    },
    "papermill": {
     "duration": 3.031062,
     "end_time": "2025-03-18T17:54:38.396752",
     "exception": false,
     "start_time": "2025-03-18T17:54:35.365690",
     "status": "completed"
    },
    "tags": []
   },
   "outputs": [],
   "source": [
    "import pandas as pd\n",
    "import numpy as np\n",
    "import matplotlib.pylab as plt\n",
    "import seaborn as sns\n",
    "import matplotlib.ticker as ticker\n",
    "from sklearn.preprocessing import LabelEncoder\n",
    "import warnings\n",
    "warnings.filterwarnings(\"ignore\", category=FutureWarning)"
   ]
  },
  {
   "cell_type": "code",
   "execution_count": 2,
   "id": "7173d551",
   "metadata": {
    "execution": {
     "iopub.execute_input": "2025-03-18T17:54:38.405818Z",
     "iopub.status.busy": "2025-03-18T17:54:38.405199Z",
     "iopub.status.idle": "2025-03-18T17:54:38.543136Z",
     "shell.execute_reply": "2025-03-18T17:54:38.541746Z"
    },
    "papermill": {
     "duration": 0.144742,
     "end_time": "2025-03-18T17:54:38.545477",
     "exception": false,
     "start_time": "2025-03-18T17:54:38.400735",
     "status": "completed"
    },
    "tags": []
   },
   "outputs": [],
   "source": [
    "df = pd.read_csv(\"/kaggle/input/brain-tumor-dataset/brain_tumor_dataset.csv\")"
   ]
  },
  {
   "cell_type": "markdown",
   "id": "bda48a69",
   "metadata": {
    "papermill": {
     "duration": 0.003267,
     "end_time": "2025-03-18T17:54:38.552608",
     "exception": false,
     "start_time": "2025-03-18T17:54:38.549341",
     "status": "completed"
    },
    "tags": []
   },
   "source": [
    "# Columns Information\n",
    "\n",
    "## Patient Information\n",
    "- **Patient_ID**: Unique identifier for each patient.  \n",
    "- **Age**: Age of the patient (in years).  \n",
    "- **Gender**: Gender of the patient (**Male/Female**).  \n",
    "- **Family_History**: Whether the patient has a family history of brain tumors (**Yes/No**).  \n",
    "\n",
    "## Tumor Characteristics\n",
    "- **Tumor_Type**: Type of tumor (**Benign/Malignant**).  \n",
    "- **Tumor_Size**: Size of the tumor (in centimeters).  \n",
    "- **Location**: The part of the brain where the tumor is located (e.g., **Frontal, Temporal**).  \n",
    "- **Histology**: The histological type of the tumor (e.g., **Astrocytoma, Glioblastoma**).  \n",
    "- **Stage**: The stage of the tumor (**I, II, III, IV**).  \n",
    "- **Tumor_Growth_Rate**: The growth rate of the tumor (cm per month).  \n",
    "\n",
    "## Symptoms\n",
    "- **Symptom_1**: The first symptom observed (e.g., **Headache, Seizures**).  \n",
    "- **Symptom_2**: The second symptom observed.  \n",
    "- **Symptom_3**: The third symptom observed.  \n",
    "\n",
    "## Diagnosis & Treatment\n",
    "- **MRI_Result**: The result of the MRI scan (**Positive/Negative**).  \n",
    "- **Radiation_Treatment**: Whether radiation treatment was administered (**Yes/No**).  \n",
    "- **Surgery_Performed**: Whether surgery was performed (**Yes/No**).  \n",
    "- **Chemotherapy**: Whether chemotherapy was administered (**Yes/No**).  \n",
    "\n",
    "## Follow-Up & Prognosis\n",
    "- **Survival_Rate**: The estimated survival rate of the patient (percentage).  \n",
    "- **Follow_Up_Required**: Whether follow-up is required (**Yes/No**).  \n",
    "- **Treatment_Response**: The response to the treatment (**Improved/Worsened/Stable**).  \n"
   ]
  },
  {
   "cell_type": "markdown",
   "id": "07a10a70",
   "metadata": {
    "papermill": {
     "duration": 0.003405,
     "end_time": "2025-03-18T17:54:38.559656",
     "exception": false,
     "start_time": "2025-03-18T17:54:38.556251",
     "status": "completed"
    },
    "tags": []
   },
   "source": [
    "# Data Cleaning"
   ]
  },
  {
   "cell_type": "code",
   "execution_count": 3,
   "id": "7e0d3ffc",
   "metadata": {
    "execution": {
     "iopub.execute_input": "2025-03-18T17:54:38.567661Z",
     "iopub.status.busy": "2025-03-18T17:54:38.567294Z",
     "iopub.status.idle": "2025-03-18T17:54:38.601032Z",
     "shell.execute_reply": "2025-03-18T17:54:38.599916Z"
    },
    "papermill": {
     "duration": 0.040267,
     "end_time": "2025-03-18T17:54:38.603291",
     "exception": false,
     "start_time": "2025-03-18T17:54:38.563024",
     "status": "completed"
    },
    "tags": []
   },
   "outputs": [
    {
     "data": {
      "text/plain": [
       "Patient_ID             0\n",
       "Age                    0\n",
       "Gender                 0\n",
       "Tumor_Type             0\n",
       "Tumor_Size             0\n",
       "Location               0\n",
       "Histology              0\n",
       "Stage                  0\n",
       "Symptom_1              0\n",
       "Symptom_2              0\n",
       "Symptom_3              0\n",
       "Radiation_Treatment    0\n",
       "Surgery_Performed      0\n",
       "Chemotherapy           0\n",
       "Survival_Rate          0\n",
       "Tumor_Growth_Rate      0\n",
       "Family_History         0\n",
       "MRI_Result             0\n",
       "Follow_Up_Required     0\n",
       "dtype: int64"
      ]
     },
     "execution_count": 3,
     "metadata": {},
     "output_type": "execute_result"
    }
   ],
   "source": [
    "df.isnull().sum()"
   ]
  },
  {
   "cell_type": "markdown",
   "id": "33e55f33",
   "metadata": {
    "papermill": {
     "duration": 0.003383,
     "end_time": "2025-03-18T17:54:38.610548",
     "exception": false,
     "start_time": "2025-03-18T17:54:38.607165",
     "status": "completed"
    },
    "tags": []
   },
   "source": [
    "Wow, apparently we are in front of a super dataset that is complete, that's great!"
   ]
  },
  {
   "cell_type": "code",
   "execution_count": 4,
   "id": "be7e565c",
   "metadata": {
    "execution": {
     "iopub.execute_input": "2025-03-18T17:54:38.619102Z",
     "iopub.status.busy": "2025-03-18T17:54:38.618666Z",
     "iopub.status.idle": "2025-03-18T17:54:38.626108Z",
     "shell.execute_reply": "2025-03-18T17:54:38.625145Z"
    },
    "papermill": {
     "duration": 0.013878,
     "end_time": "2025-03-18T17:54:38.628020",
     "exception": false,
     "start_time": "2025-03-18T17:54:38.614142",
     "status": "completed"
    },
    "tags": []
   },
   "outputs": [
    {
     "data": {
      "text/plain": [
       "Patient_ID               int64\n",
       "Age                      int64\n",
       "Gender                  object\n",
       "Tumor_Type              object\n",
       "Tumor_Size             float64\n",
       "Location                object\n",
       "Histology               object\n",
       "Stage                   object\n",
       "Symptom_1               object\n",
       "Symptom_2               object\n",
       "Symptom_3               object\n",
       "Radiation_Treatment     object\n",
       "Surgery_Performed       object\n",
       "Chemotherapy            object\n",
       "Survival_Rate          float64\n",
       "Tumor_Growth_Rate      float64\n",
       "Family_History          object\n",
       "MRI_Result              object\n",
       "Follow_Up_Required      object\n",
       "dtype: object"
      ]
     },
     "execution_count": 4,
     "metadata": {},
     "output_type": "execute_result"
    }
   ],
   "source": [
    "df.dtypes"
   ]
  },
  {
   "cell_type": "code",
   "execution_count": 5,
   "id": "172e23a6",
   "metadata": {
    "execution": {
     "iopub.execute_input": "2025-03-18T17:54:38.637213Z",
     "iopub.status.busy": "2025-03-18T17:54:38.636792Z",
     "iopub.status.idle": "2025-03-18T17:54:38.668006Z",
     "shell.execute_reply": "2025-03-18T17:54:38.666570Z"
    },
    "papermill": {
     "duration": 0.037821,
     "end_time": "2025-03-18T17:54:38.669797",
     "exception": false,
     "start_time": "2025-03-18T17:54:38.631976",
     "status": "completed"
    },
    "tags": []
   },
   "outputs": [
    {
     "data": {
      "text/html": [
       "<div>\n",
       "<style scoped>\n",
       "    .dataframe tbody tr th:only-of-type {\n",
       "        vertical-align: middle;\n",
       "    }\n",
       "\n",
       "    .dataframe tbody tr th {\n",
       "        vertical-align: top;\n",
       "    }\n",
       "\n",
       "    .dataframe thead th {\n",
       "        text-align: right;\n",
       "    }\n",
       "</style>\n",
       "<table border=\"1\" class=\"dataframe\">\n",
       "  <thead>\n",
       "    <tr style=\"text-align: right;\">\n",
       "      <th></th>\n",
       "      <th>Patient_ID</th>\n",
       "      <th>Age</th>\n",
       "      <th>Gender</th>\n",
       "      <th>Tumor_Type</th>\n",
       "      <th>Tumor_Size</th>\n",
       "      <th>Location</th>\n",
       "      <th>Histology</th>\n",
       "      <th>Stage</th>\n",
       "      <th>Symptom_1</th>\n",
       "      <th>Symptom_2</th>\n",
       "      <th>Symptom_3</th>\n",
       "      <th>Radiation_Treatment</th>\n",
       "      <th>Surgery_Performed</th>\n",
       "      <th>Chemotherapy</th>\n",
       "      <th>Survival_Rate</th>\n",
       "      <th>Tumor_Growth_Rate</th>\n",
       "      <th>Family_History</th>\n",
       "      <th>MRI_Result</th>\n",
       "      <th>Follow_Up_Required</th>\n",
       "    </tr>\n",
       "  </thead>\n",
       "  <tbody>\n",
       "    <tr>\n",
       "      <th>0</th>\n",
       "      <td>1</td>\n",
       "      <td>73</td>\n",
       "      <td>Male</td>\n",
       "      <td>Malignant</td>\n",
       "      <td>5.375612</td>\n",
       "      <td>Temporal</td>\n",
       "      <td>Astrocytoma</td>\n",
       "      <td>III</td>\n",
       "      <td>Vision Issues</td>\n",
       "      <td>Seizures</td>\n",
       "      <td>Seizures</td>\n",
       "      <td>No</td>\n",
       "      <td>No</td>\n",
       "      <td>No</td>\n",
       "      <td>51.312579</td>\n",
       "      <td>0.111876</td>\n",
       "      <td>No</td>\n",
       "      <td>Positive</td>\n",
       "      <td>Yes</td>\n",
       "    </tr>\n",
       "    <tr>\n",
       "      <th>1</th>\n",
       "      <td>2</td>\n",
       "      <td>26</td>\n",
       "      <td>Male</td>\n",
       "      <td>Benign</td>\n",
       "      <td>4.847098</td>\n",
       "      <td>Parietal</td>\n",
       "      <td>Glioblastoma</td>\n",
       "      <td>II</td>\n",
       "      <td>Headache</td>\n",
       "      <td>Headache</td>\n",
       "      <td>Nausea</td>\n",
       "      <td>Yes</td>\n",
       "      <td>Yes</td>\n",
       "      <td>Yes</td>\n",
       "      <td>46.373273</td>\n",
       "      <td>2.165736</td>\n",
       "      <td>Yes</td>\n",
       "      <td>Positive</td>\n",
       "      <td>Yes</td>\n",
       "    </tr>\n",
       "    <tr>\n",
       "      <th>2</th>\n",
       "      <td>3</td>\n",
       "      <td>31</td>\n",
       "      <td>Male</td>\n",
       "      <td>Benign</td>\n",
       "      <td>5.588391</td>\n",
       "      <td>Parietal</td>\n",
       "      <td>Meningioma</td>\n",
       "      <td>I</td>\n",
       "      <td>Vision Issues</td>\n",
       "      <td>Headache</td>\n",
       "      <td>Seizures</td>\n",
       "      <td>No</td>\n",
       "      <td>No</td>\n",
       "      <td>No</td>\n",
       "      <td>47.072221</td>\n",
       "      <td>1.884228</td>\n",
       "      <td>No</td>\n",
       "      <td>Negative</td>\n",
       "      <td>No</td>\n",
       "    </tr>\n",
       "    <tr>\n",
       "      <th>3</th>\n",
       "      <td>4</td>\n",
       "      <td>29</td>\n",
       "      <td>Male</td>\n",
       "      <td>Malignant</td>\n",
       "      <td>1.436600</td>\n",
       "      <td>Temporal</td>\n",
       "      <td>Medulloblastoma</td>\n",
       "      <td>IV</td>\n",
       "      <td>Vision Issues</td>\n",
       "      <td>Seizures</td>\n",
       "      <td>Headache</td>\n",
       "      <td>Yes</td>\n",
       "      <td>No</td>\n",
       "      <td>Yes</td>\n",
       "      <td>51.853634</td>\n",
       "      <td>1.283342</td>\n",
       "      <td>Yes</td>\n",
       "      <td>Negative</td>\n",
       "      <td>No</td>\n",
       "    </tr>\n",
       "    <tr>\n",
       "      <th>4</th>\n",
       "      <td>5</td>\n",
       "      <td>54</td>\n",
       "      <td>Female</td>\n",
       "      <td>Benign</td>\n",
       "      <td>2.417506</td>\n",
       "      <td>Parietal</td>\n",
       "      <td>Glioblastoma</td>\n",
       "      <td>I</td>\n",
       "      <td>Headache</td>\n",
       "      <td>Headache</td>\n",
       "      <td>Seizures</td>\n",
       "      <td>No</td>\n",
       "      <td>No</td>\n",
       "      <td>Yes</td>\n",
       "      <td>54.708987</td>\n",
       "      <td>2.069477</td>\n",
       "      <td>No</td>\n",
       "      <td>Positive</td>\n",
       "      <td>Yes</td>\n",
       "    </tr>\n",
       "  </tbody>\n",
       "</table>\n",
       "</div>"
      ],
      "text/plain": [
       "   Patient_ID  Age  Gender Tumor_Type  Tumor_Size  Location        Histology  \\\n",
       "0           1   73    Male  Malignant    5.375612  Temporal      Astrocytoma   \n",
       "1           2   26    Male     Benign    4.847098  Parietal     Glioblastoma   \n",
       "2           3   31    Male     Benign    5.588391  Parietal       Meningioma   \n",
       "3           4   29    Male  Malignant    1.436600  Temporal  Medulloblastoma   \n",
       "4           5   54  Female     Benign    2.417506  Parietal     Glioblastoma   \n",
       "\n",
       "  Stage      Symptom_1 Symptom_2 Symptom_3 Radiation_Treatment  \\\n",
       "0   III  Vision Issues  Seizures  Seizures                  No   \n",
       "1    II       Headache  Headache    Nausea                 Yes   \n",
       "2     I  Vision Issues  Headache  Seizures                  No   \n",
       "3    IV  Vision Issues  Seizures  Headache                 Yes   \n",
       "4     I       Headache  Headache  Seizures                  No   \n",
       "\n",
       "  Surgery_Performed Chemotherapy  Survival_Rate  Tumor_Growth_Rate  \\\n",
       "0                No           No      51.312579           0.111876   \n",
       "1               Yes          Yes      46.373273           2.165736   \n",
       "2                No           No      47.072221           1.884228   \n",
       "3                No          Yes      51.853634           1.283342   \n",
       "4                No          Yes      54.708987           2.069477   \n",
       "\n",
       "  Family_History MRI_Result Follow_Up_Required  \n",
       "0             No   Positive                Yes  \n",
       "1            Yes   Positive                Yes  \n",
       "2             No   Negative                 No  \n",
       "3            Yes   Negative                 No  \n",
       "4             No   Positive                Yes  "
      ]
     },
     "execution_count": 5,
     "metadata": {},
     "output_type": "execute_result"
    }
   ],
   "source": [
    "df.head()"
   ]
  },
  {
   "cell_type": "code",
   "execution_count": 6,
   "id": "849880ce",
   "metadata": {
    "execution": {
     "iopub.execute_input": "2025-03-18T17:54:38.679630Z",
     "iopub.status.busy": "2025-03-18T17:54:38.679114Z",
     "iopub.status.idle": "2025-03-18T17:54:38.691572Z",
     "shell.execute_reply": "2025-03-18T17:54:38.690448Z"
    },
    "papermill": {
     "duration": 0.019311,
     "end_time": "2025-03-18T17:54:38.693381",
     "exception": false,
     "start_time": "2025-03-18T17:54:38.674070",
     "status": "completed"
    },
    "tags": []
   },
   "outputs": [
    {
     "data": {
      "text/plain": [
       "array(['Malignant', 'Benign'], dtype=object)"
      ]
     },
     "execution_count": 6,
     "metadata": {},
     "output_type": "execute_result"
    }
   ],
   "source": [
    "df['Tumor_Type'].unique()"
   ]
  },
  {
   "cell_type": "code",
   "execution_count": 7,
   "id": "45f2fae6",
   "metadata": {
    "execution": {
     "iopub.execute_input": "2025-03-18T17:54:38.702875Z",
     "iopub.status.busy": "2025-03-18T17:54:38.702471Z",
     "iopub.status.idle": "2025-03-18T17:54:38.710118Z",
     "shell.execute_reply": "2025-03-18T17:54:38.709011Z"
    },
    "papermill": {
     "duration": 0.014422,
     "end_time": "2025-03-18T17:54:38.711884",
     "exception": false,
     "start_time": "2025-03-18T17:54:38.697462",
     "status": "completed"
    },
    "tags": []
   },
   "outputs": [
    {
     "data": {
      "text/plain": [
       "array(['Temporal', 'Parietal', 'Frontal', 'Occipital'], dtype=object)"
      ]
     },
     "execution_count": 7,
     "metadata": {},
     "output_type": "execute_result"
    }
   ],
   "source": [
    "df['Location'].unique()"
   ]
  },
  {
   "cell_type": "code",
   "execution_count": 8,
   "id": "568f66c7",
   "metadata": {
    "execution": {
     "iopub.execute_input": "2025-03-18T17:54:38.721402Z",
     "iopub.status.busy": "2025-03-18T17:54:38.720983Z",
     "iopub.status.idle": "2025-03-18T17:54:38.728394Z",
     "shell.execute_reply": "2025-03-18T17:54:38.727287Z"
    },
    "papermill": {
     "duration": 0.014378,
     "end_time": "2025-03-18T17:54:38.730478",
     "exception": false,
     "start_time": "2025-03-18T17:54:38.716100",
     "status": "completed"
    },
    "tags": []
   },
   "outputs": [
    {
     "data": {
      "text/plain": [
       "array(['Astrocytoma', 'Glioblastoma', 'Meningioma', 'Medulloblastoma'],\n",
       "      dtype=object)"
      ]
     },
     "execution_count": 8,
     "metadata": {},
     "output_type": "execute_result"
    }
   ],
   "source": [
    "df['Histology'].unique()"
   ]
  },
  {
   "cell_type": "code",
   "execution_count": 9,
   "id": "f69c67d9",
   "metadata": {
    "execution": {
     "iopub.execute_input": "2025-03-18T17:54:38.740264Z",
     "iopub.status.busy": "2025-03-18T17:54:38.739860Z",
     "iopub.status.idle": "2025-03-18T17:54:38.747514Z",
     "shell.execute_reply": "2025-03-18T17:54:38.746415Z"
    },
    "papermill": {
     "duration": 0.014573,
     "end_time": "2025-03-18T17:54:38.749303",
     "exception": false,
     "start_time": "2025-03-18T17:54:38.734730",
     "status": "completed"
    },
    "tags": []
   },
   "outputs": [
    {
     "data": {
      "text/plain": [
       "array(['III', 'II', 'I', 'IV'], dtype=object)"
      ]
     },
     "execution_count": 9,
     "metadata": {},
     "output_type": "execute_result"
    }
   ],
   "source": [
    "df['Stage'].unique()"
   ]
  },
  {
   "cell_type": "code",
   "execution_count": 10,
   "id": "49de28ef",
   "metadata": {
    "execution": {
     "iopub.execute_input": "2025-03-18T17:54:38.759245Z",
     "iopub.status.busy": "2025-03-18T17:54:38.758833Z",
     "iopub.status.idle": "2025-03-18T17:54:38.766107Z",
     "shell.execute_reply": "2025-03-18T17:54:38.765200Z"
    },
    "papermill": {
     "duration": 0.014328,
     "end_time": "2025-03-18T17:54:38.767994",
     "exception": false,
     "start_time": "2025-03-18T17:54:38.753666",
     "status": "completed"
    },
    "tags": []
   },
   "outputs": [
    {
     "data": {
      "text/plain": [
       "array(['Vision Issues', 'Headache', 'Seizures', 'Nausea'], dtype=object)"
      ]
     },
     "execution_count": 10,
     "metadata": {},
     "output_type": "execute_result"
    }
   ],
   "source": [
    "df['Symptom_1'].unique()"
   ]
  },
  {
   "cell_type": "code",
   "execution_count": 11,
   "id": "b8dc5a86",
   "metadata": {
    "execution": {
     "iopub.execute_input": "2025-03-18T17:54:38.778621Z",
     "iopub.status.busy": "2025-03-18T17:54:38.778070Z",
     "iopub.status.idle": "2025-03-18T17:54:38.785782Z",
     "shell.execute_reply": "2025-03-18T17:54:38.784811Z"
    },
    "papermill": {
     "duration": 0.015145,
     "end_time": "2025-03-18T17:54:38.787626",
     "exception": false,
     "start_time": "2025-03-18T17:54:38.772481",
     "status": "completed"
    },
    "tags": []
   },
   "outputs": [
    {
     "data": {
      "text/plain": [
       "array(['Positive', 'Negative'], dtype=object)"
      ]
     },
     "execution_count": 11,
     "metadata": {},
     "output_type": "execute_result"
    }
   ],
   "source": [
    "df['MRI_Result'].unique()"
   ]
  }
 ],
 "metadata": {
  "kaggle": {
   "accelerator": "none",
   "dataSources": [
    {
     "datasetId": 6816800,
     "sourceId": 10957640,
     "sourceType": "datasetVersion"
    }
   ],
   "dockerImageVersionId": 30918,
   "isGpuEnabled": false,
   "isInternetEnabled": true,
   "language": "python",
   "sourceType": "notebook"
  },
  "kernelspec": {
   "display_name": "Python 3",
   "language": "python",
   "name": "python3"
  },
  "language_info": {
   "codemirror_mode": {
    "name": "ipython",
    "version": 3
   },
   "file_extension": ".py",
   "mimetype": "text/x-python",
   "name": "python",
   "nbconvert_exporter": "python",
   "pygments_lexer": "ipython3",
   "version": "3.10.12"
  },
  "papermill": {
   "default_parameters": {},
   "duration": 7.053716,
   "end_time": "2025-03-18T17:54:39.513646",
   "environment_variables": {},
   "exception": null,
   "input_path": "__notebook__.ipynb",
   "output_path": "__notebook__.ipynb",
   "parameters": {},
   "start_time": "2025-03-18T17:54:32.459930",
   "version": "2.6.0"
  }
 },
 "nbformat": 4,
 "nbformat_minor": 5
}
